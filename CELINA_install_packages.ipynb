{
 "cells": [
  {
   "cell_type": "code",
   "execution_count": 1,
   "id": "8eddb26d-9ac7-4f90-92d4-b03a84bbb56a",
   "metadata": {},
   "outputs": [
    {
     "name": "stderr",
     "output_type": "stream",
     "text": [
      "Loading required package: usethis\n",
      "\n"
     ]
    }
   ],
   "source": [
    "library(devtools)"
   ]
  },
  {
   "cell_type": "code",
   "execution_count": 2,
   "id": "c895c2bf-4904-42fe-b093-fe29e5a26283",
   "metadata": {},
   "outputs": [
    {
     "name": "stderr",
     "output_type": "stream",
     "text": [
      "Downloading GitHub repo pekjoonwu/CELINA@HEAD\n",
      "\n"
     ]
    },
    {
     "name": "stdout",
     "output_type": "stream",
     "text": [
      "rlang        (1.1.1   -> 1.1.5   ) [CRAN]\n",
      "lifecycle    (1.0.3   -> 1.0.4   ) [CRAN]\n",
      "glue         (1.6.2   -> 1.8.0   ) [CRAN]\n",
      "cli          (3.6.1   -> 3.6.4   ) [CRAN]\n",
      "withr        (2.5.1   -> 3.0.2   ) [CRAN]\n",
      "vctrs        (0.6.4   -> 0.6.5   ) [CRAN]\n",
      "pillar       (1.9.0   -> 1.10.1  ) [CRAN]\n",
      "fansi        (1.0.5   -> 1.0.6   ) [CRAN]\n",
      "lattice      (0.22-5  -> 0.22-6  ) [CRAN]\n",
      "Rcpp         (1.0.11  -> 1.0.14  ) [CRAN]\n",
      "dotCall64    (NA      -> 1.2     ) [CRAN]\n",
      "stringi      (1.7.12  -> 1.8.4   ) [CRAN]\n",
      "tidyselect   (NA      -> 1.2.1   ) [CRAN]\n",
      "R6           (2.5.1   -> 2.6.1   ) [CRAN]\n",
      "generics     (NA      -> 0.1.3   ) [CRAN]\n",
      "nlme         (3.1-163 -> 3.1-167 ) [CRAN]\n",
      "maps         (NA      -> 3.4.2.1 ) [CRAN]\n",
      "spam         (NA      -> 2.11-1  ) [CRAN]\n",
      "cpp11        (0.4.6   -> 0.5.2   ) [CRAN]\n",
      "stringr      (1.5.0   -> 1.5.1   ) [CRAN]\n",
      "purrr        (1.0.2   -> 1.0.4   ) [CRAN]\n",
      "dplyr        (NA      -> 1.1.4   ) [CRAN]\n",
      "RcppArmad... (NA      -> 14.4.0-1) [CRAN]\n",
      "mgcv         (1.9-0   -> 1.9-1   ) [CRAN]\n",
      "fields       (NA      -> 16.3.1  ) [CRAN]\n",
      "tidyr        (NA      -> 1.3.1   ) [CRAN]\n",
      "pracma       (NA      -> 2.4.4   ) [CRAN]\n",
      "pdist        (NA      -> 1.2.1   ) [CRAN]\n",
      "pbmcapply    (NA      -> 1.5.1   ) [CRAN]\n",
      "CompQuadForm (NA      -> 1.4.3   ) [CRAN]\n"
     ]
    },
    {
     "name": "stderr",
     "output_type": "stream",
     "text": [
      "Skipping 3 packages not available: Matrix, scater, MASS\n",
      "\n",
      "Installing 30 packages: rlang, lifecycle, glue, cli, withr, vctrs, pillar, fansi, lattice, Rcpp, dotCall64, stringi, tidyselect, R6, generics, nlme, maps, spam, cpp11, stringr, purrr, dplyr, RcppArmadillo, mgcv, fields, tidyr, pracma, pdist, pbmcapply, CompQuadForm\n",
      "\n",
      "Updating HTML index of packages in '.Library'\n",
      "\n",
      "Making 'packages.html' ...\n",
      " done\n",
      "\n"
     ]
    },
    {
     "name": "stdout",
     "output_type": "stream",
     "text": [
      "\u001b[36m──\u001b[39m \u001b[36mR CMD build\u001b[39m \u001b[36m─────────────────────────────────────────────────────────────────────────────────────────────────────────────────────────────────────────────────────────────────────────────────────────────────────────────────────────────────────────────\u001b[39m\n",
      "\u001b[32m✔\u001b[39m  \u001b[90mchecking for file ‘/tmp/RtmpNAtHTw/remotes9a07a3234d6df/pekjoonwu-CELINA-305f579/DESCRIPTION’\u001b[39m\u001b[36m\u001b[36m (362ms)\u001b[36m\u001b[39m\n",
      "\u001b[90m─\u001b[39m\u001b[90m  \u001b[39m\u001b[90mpreparing ‘CELINA’:\u001b[39m\u001b[36m\u001b[39m\n",
      "\u001b[32m✔\u001b[39m  \u001b[90mchecking DESCRIPTION meta-information\u001b[39m\u001b[36m\u001b[39m\n",
      "\u001b[90m─\u001b[39m\u001b[90m  \u001b[39m\u001b[90mcleaning src\u001b[39m\u001b[36m\u001b[39m\n",
      "\u001b[90m─\u001b[39m\u001b[90m  \u001b[39m\u001b[90minstalling the package to process help pages\u001b[39m\u001b[36m\u001b[39m\n",
      "\u001b[90m─\u001b[39m\u001b[90m  \u001b[39m\u001b[90msaving partial Rd database\u001b[39m\u001b[36m\u001b[36m (16.1s)\u001b[36m\u001b[39m\n",
      "\u001b[90m─\u001b[39m\u001b[90m  \u001b[39m\u001b[90mcleaning src\u001b[39m\u001b[36m\u001b[39m\n",
      "\u001b[90m─\u001b[39m\u001b[90m  \u001b[39m\u001b[90mchecking for LF line-endings in source and make files and shell scripts\u001b[39m\u001b[36m\u001b[39m\n",
      "\u001b[90m─\u001b[39m\u001b[90m  \u001b[39m\u001b[90mchecking for empty or unneeded directories\u001b[39m\u001b[36m\u001b[39m\n",
      "\u001b[90m─\u001b[39m\u001b[90m  \u001b[39m\u001b[90mbuilding ‘CELINA_1.0.tar.gz’\u001b[39m\u001b[36m\u001b[39m\n",
      "   \n"
     ]
    }
   ],
   "source": [
    "devtools::install_github(\"pekjoonwu/CELINA\")"
   ]
  },
  {
   "cell_type": "code",
   "execution_count": 3,
   "id": "f4201d76-7c92-4ff9-bde2-dacee7b66f0c",
   "metadata": {},
   "outputs": [],
   "source": [
    "library(CELINA)"
   ]
  },
  {
   "cell_type": "code",
   "execution_count": null,
   "id": "7e0dfa95-3e79-49e3-b541-8b07d16d90c0",
   "metadata": {},
   "outputs": [],
   "source": []
  }
 ],
 "metadata": {
  "kernelspec": {
   "display_name": "R [conda env:CELINA]",
   "language": "R",
   "name": "conda-env-CELINA-r"
  },
  "language_info": {
   "codemirror_mode": "r",
   "file_extension": ".r",
   "mimetype": "text/x-r-source",
   "name": "R",
   "pygments_lexer": "r",
   "version": "4.3.1"
  }
 },
 "nbformat": 4,
 "nbformat_minor": 5
}
